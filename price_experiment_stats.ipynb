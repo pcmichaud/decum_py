{
 "cells": [
  {
   "cell_type": "code",
   "execution_count": 1,
   "metadata": {},
   "outputs": [],
   "source": [
    "import numpy as np \n",
    "import pandas as pd \n",
    "from matplotlib import pyplot as plt"
   ]
  },
  {
   "cell_type": "code",
   "execution_count": 2,
   "metadata": {},
   "outputs": [],
   "source": [
    "q = pd.read_csv('output/price_experiment.csv',index_col=0)\n",
    "ac = pd.read_csv('output/price_experiment_as.csv',index_col=0)\n"
   ]
  },
  {
   "cell_type": "code",
   "execution_count": 9,
   "metadata": {},
   "outputs": [
    {
     "data": {
      "text/html": [
       "<div>\n",
       "<style scoped>\n",
       "    .dataframe tbody tr th:only-of-type {\n",
       "        vertical-align: middle;\n",
       "    }\n",
       "\n",
       "    .dataframe tbody tr th {\n",
       "        vertical-align: top;\n",
       "    }\n",
       "\n",
       "    .dataframe thead th {\n",
       "        text-align: right;\n",
       "    }\n",
       "</style>\n",
       "<table border=\"1\" class=\"dataframe\">\n",
       "  <thead>\n",
       "    <tr style=\"text-align: right;\">\n",
       "      <th></th>\n",
       "      <th>ann</th>\n",
       "      <th>ltci</th>\n",
       "      <th>rmr</th>\n",
       "    </tr>\n",
       "  </thead>\n",
       "  <tbody>\n",
       "    <tr>\n",
       "      <th>0.500000</th>\n",
       "      <td>0.818469</td>\n",
       "      <td>0.565465</td>\n",
       "      <td>0.767868</td>\n",
       "    </tr>\n",
       "    <tr>\n",
       "      <th>0.666667</th>\n",
       "      <td>0.592030</td>\n",
       "      <td>0.371284</td>\n",
       "      <td>0.760911</td>\n",
       "    </tr>\n",
       "    <tr>\n",
       "      <th>0.833333</th>\n",
       "      <td>0.254902</td>\n",
       "      <td>0.241619</td>\n",
       "      <td>0.754586</td>\n",
       "    </tr>\n",
       "    <tr>\n",
       "      <th>1.000000</th>\n",
       "      <td>0.055028</td>\n",
       "      <td>0.169513</td>\n",
       "      <td>0.744466</td>\n",
       "    </tr>\n",
       "    <tr>\n",
       "      <th>1.166667</th>\n",
       "      <td>0.010120</td>\n",
       "      <td>0.121442</td>\n",
       "      <td>0.739405</td>\n",
       "    </tr>\n",
       "    <tr>\n",
       "      <th>1.333333</th>\n",
       "      <td>0.005060</td>\n",
       "      <td>0.095509</td>\n",
       "      <td>0.734978</td>\n",
       "    </tr>\n",
       "    <tr>\n",
       "      <th>1.500000</th>\n",
       "      <td>0.002530</td>\n",
       "      <td>0.073371</td>\n",
       "      <td>0.731183</td>\n",
       "    </tr>\n",
       "    <tr>\n",
       "      <th>1.666667</th>\n",
       "      <td>0.002530</td>\n",
       "      <td>0.060721</td>\n",
       "      <td>0.727388</td>\n",
       "    </tr>\n",
       "    <tr>\n",
       "      <th>1.833333</th>\n",
       "      <td>0.002530</td>\n",
       "      <td>0.047438</td>\n",
       "      <td>0.723593</td>\n",
       "    </tr>\n",
       "    <tr>\n",
       "      <th>2.000000</th>\n",
       "      <td>0.001265</td>\n",
       "      <td>0.040481</td>\n",
       "      <td>0.722328</td>\n",
       "    </tr>\n",
       "  </tbody>\n",
       "</table>\n",
       "</div>"
      ],
      "text/plain": [
       "               ann      ltci       rmr\n",
       "0.500000  0.818469  0.565465  0.767868\n",
       "0.666667  0.592030  0.371284  0.760911\n",
       "0.833333  0.254902  0.241619  0.754586\n",
       "1.000000  0.055028  0.169513  0.744466\n",
       "1.166667  0.010120  0.121442  0.739405\n",
       "1.333333  0.005060  0.095509  0.734978\n",
       "1.500000  0.002530  0.073371  0.731183\n",
       "1.666667  0.002530  0.060721  0.727388\n",
       "1.833333  0.002530  0.047438  0.723593\n",
       "2.000000  0.001265  0.040481  0.722328"
      ]
     },
     "execution_count": 9,
     "metadata": {},
     "output_type": "execute_result"
    }
   ],
   "source": [
    "q"
   ]
  },
  {
   "cell_type": "code",
   "execution_count": 3,
   "metadata": {},
   "outputs": [
    {
     "data": {
      "text/html": [
       "<div>\n",
       "<style scoped>\n",
       "    .dataframe tbody tr th:only-of-type {\n",
       "        vertical-align: middle;\n",
       "    }\n",
       "\n",
       "    .dataframe tbody tr th {\n",
       "        vertical-align: top;\n",
       "    }\n",
       "\n",
       "    .dataframe thead th {\n",
       "        text-align: right;\n",
       "    }\n",
       "</style>\n",
       "<table border=\"1\" class=\"dataframe\">\n",
       "  <thead>\n",
       "    <tr style=\"text-align: right;\">\n",
       "      <th></th>\n",
       "      <th>ann</th>\n",
       "      <th>ltci</th>\n",
       "      <th>rmr</th>\n",
       "    </tr>\n",
       "  </thead>\n",
       "  <tbody>\n",
       "    <tr>\n",
       "      <th>0.500000</th>\n",
       "      <td>1.011649</td>\n",
       "      <td>1.212810</td>\n",
       "      <td>1.030038</td>\n",
       "    </tr>\n",
       "    <tr>\n",
       "      <th>0.666667</th>\n",
       "      <td>1.021886</td>\n",
       "      <td>1.395436</td>\n",
       "      <td>1.035341</td>\n",
       "    </tr>\n",
       "    <tr>\n",
       "      <th>0.833333</th>\n",
       "      <td>1.032816</td>\n",
       "      <td>1.623236</td>\n",
       "      <td>1.035948</td>\n",
       "    </tr>\n",
       "    <tr>\n",
       "      <th>1.000000</th>\n",
       "      <td>1.037558</td>\n",
       "      <td>1.823033</td>\n",
       "      <td>1.048983</td>\n",
       "    </tr>\n",
       "    <tr>\n",
       "      <th>1.166667</th>\n",
       "      <td>0.962352</td>\n",
       "      <td>2.064556</td>\n",
       "      <td>1.055967</td>\n",
       "    </tr>\n",
       "    <tr>\n",
       "      <th>1.333333</th>\n",
       "      <td>0.940471</td>\n",
       "      <td>2.278442</td>\n",
       "      <td>1.052283</td>\n",
       "    </tr>\n",
       "    <tr>\n",
       "      <th>1.500000</th>\n",
       "      <td>0.869887</td>\n",
       "      <td>2.482420</td>\n",
       "      <td>1.057641</td>\n",
       "    </tr>\n",
       "    <tr>\n",
       "      <th>1.666667</th>\n",
       "      <td>0.869887</td>\n",
       "      <td>2.671181</td>\n",
       "      <td>1.060307</td>\n",
       "    </tr>\n",
       "    <tr>\n",
       "      <th>1.833333</th>\n",
       "      <td>0.869887</td>\n",
       "      <td>2.822914</td>\n",
       "      <td>1.065830</td>\n",
       "    </tr>\n",
       "    <tr>\n",
       "      <th>2.000000</th>\n",
       "      <td>0.779760</td>\n",
       "      <td>2.928225</td>\n",
       "      <td>1.067697</td>\n",
       "    </tr>\n",
       "  </tbody>\n",
       "</table>\n",
       "</div>"
      ],
      "text/plain": [
       "               ann      ltci       rmr\n",
       "0.500000  1.011649  1.212810  1.030038\n",
       "0.666667  1.021886  1.395436  1.035341\n",
       "0.833333  1.032816  1.623236  1.035948\n",
       "1.000000  1.037558  1.823033  1.048983\n",
       "1.166667  0.962352  2.064556  1.055967\n",
       "1.333333  0.940471  2.278442  1.052283\n",
       "1.500000  0.869887  2.482420  1.057641\n",
       "1.666667  0.869887  2.671181  1.060307\n",
       "1.833333  0.869887  2.822914  1.065830\n",
       "2.000000  0.779760  2.928225  1.067697"
      ]
     },
     "execution_count": 3,
     "metadata": {},
     "output_type": "execute_result"
    }
   ],
   "source": [
    "ac"
   ]
  },
  {
   "cell_type": "code",
   "execution_count": 4,
   "metadata": {},
   "outputs": [],
   "source": [
    "p = q.index.to_list()"
   ]
  },
  {
   "cell_type": "code",
   "execution_count": 5,
   "metadata": {},
   "outputs": [
    {
     "name": "stderr",
     "output_type": "stream",
     "text": [
      "The PostScript backend does not support transparency; partially transparent artists will be rendered opaque.\n"
     ]
    },
    {
     "data": {
      "image/png": "[encoded data removed]",
      "text/plain": [
       "<Figure size 432x288 with 1 Axes>"
      ]
     },
     "metadata": {
      "needs_background": "light"
     },
     "output_type": "display_data"
    }
   ],
   "source": [
    "plt.figure()\n",
    "plt.plot(q['ann'],p,label='demand',color='cornflowerblue')\n",
    "plt.plot(q['ann'],ac['ann'],label='average cost',color='salmon')\n",
    "plt.xlabel('fraction buying')\n",
    "plt.ylabel('price (cost) relative to fair')\n",
    "plt.legend()\n",
    "plt.savefig('output/annuity_selection.eps')\n",
    "plt.show()\n"
   ]
  },
  {
   "cell_type": "code",
   "execution_count": 6,
   "metadata": {},
   "outputs": [
    {
     "data": {
      "image/png": "[encoded data removed]",
      "text/plain": [
       "<Figure size 432x288 with 1 Axes>"
      ]
     },
     "metadata": {
      "needs_background": "light"
     },
     "output_type": "display_data"
    }
   ],
   "source": [
    "plt.figure()\n",
    "plt.plot(q['ltci'],p,label='demand',color='cornflowerblue')\n",
    "plt.plot(q['ltci'],ac['ltci'],label='average cost',color='salmon')\n",
    "plt.xlabel('fraction buying')\n",
    "plt.ylabel('price (cost) relative to fair')\n",
    "plt.savefig('output/ltci_selection.eps')\n",
    "plt.legend()\n",
    "plt.show()"
   ]
  },
  {
   "cell_type": "code",
   "execution_count": 7,
   "metadata": {},
   "outputs": [],
   "source": [
    "p = np.linspace(0,0.03,10)"
   ]
  },
  {
   "cell_type": "code",
   "execution_count": 8,
   "metadata": {},
   "outputs": [
    {
     "data": {
      "image/png": "[encoded data removed]",
      "text/plain": [
       "<Figure size 432x288 with 1 Axes>"
      ]
     },
     "metadata": {
      "needs_background": "light"
     },
     "output_type": "display_data"
    }
   ],
   "source": [
    "plt.figure()\n",
    "plt.plot(q['rmr'],p,label='demand',color='cornflowerblue')\n",
    "plt.plot(q['rmr'],ac['rmr'],label='average cost',color='salmon')\n",
    "plt.xlabel('fraction buying')\n",
    "plt.ylabel('price (cost) relative to fair')\n",
    "plt.savefig('output/ltci_selection.eps')\n",
    "plt.legend()\n",
    "plt.show()"
   ]
  },
  {
   "cell_type": "code",
   "execution_count": null,
   "metadata": {},
   "outputs": [],
   "source": []
  }
 ],
 "metadata": {
  "kernelspec": {
   "display_name": "Python 3.8.12 ('base')",
   "language": "python",
   "name": "python3"
  },
  "language_info": {
   "codemirror_mode": {
    "name": "ipython",
    "version": 3
   },
   "file_extension": ".py",
   "mimetype": "text/x-python",
   "name": "python",
   "nbconvert_exporter": "python",
   "pygments_lexer": "ipython3",
   "version": "3.8.12"
  },
  "orig_nbformat": 4,
  "vscode": {
   "interpreter": {
    "hash": "40d3a090f54c6569ab1632332b64b2c03c39dcf918b08424e98f38b5ae0af88f"
   }
  }
 },
 "nbformat": 4,
 "nbformat_minor": 2
}
